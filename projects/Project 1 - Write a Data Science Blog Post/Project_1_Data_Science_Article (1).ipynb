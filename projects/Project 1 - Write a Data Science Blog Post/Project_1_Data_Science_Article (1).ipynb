{
  "nbformat": 4,
  "nbformat_minor": 0,
  "metadata": {
    "colab": {
      "name": "Project 1. Data Science Article",
      "provenance": [],
      "collapsed_sections": [],
      "toc_visible": true
    },
    "kernelspec": {
      "name": "python3",
      "display_name": "Python 3"
    }
  },
  "cells": [
    {
      "cell_type": "markdown",
      "metadata": {
        "id": "QDjC552qJmyP"
      },
      "source": [
        "# Udacity Data Scientist Nanodegree - Project 1 (Data Science Blog Post)\r\n",
        "In this project, we analyzed data of more than 200 data scientist job positions extracted from  www.glassdoor.com during the year of 2020, with features such as:\r\n",
        "\r\n",
        "*   Salary Estimate\r\n",
        "*   Location\r\n",
        "*   Company Name\r\n",
        "*   Job Description\r\n"
      ]
    },
    {
      "cell_type": "markdown",
      "metadata": {
        "id": "yRH12Wk9N4Ps"
      },
      "source": [
        "# Questions\r\n",
        "\r\n",
        "\r\n",
        "1.   Which companies have the most number of data scientist positions?\r\n",
        "2.   What's the most frequent salary estimate?\r\n",
        "3.   Which cities offer more job opportunities?\r\n",
        "\r\n",
        "\r\n",
        "\r\n",
        "\r\n"
      ]
    },
    {
      "cell_type": "markdown",
      "metadata": {
        "id": "b4ttCo-KXprn"
      },
      "source": [
        "# **Data overview**\r\n",
        "In this section, we analysed the number of columns, rows and types of data. With those informations, we can proceed with the data analyses."
      ]
    },
    {
      "cell_type": "code",
      "metadata": {
        "id": "CC3mcEzcUW98",
        "colab": {
          "base_uri": "https://localhost:8080/"
        },
        "outputId": "75145e21-9343-44f1-c14e-7e56379959e8"
      },
      "source": [
        "#Importing libraries \n",
        "import pandas as pd #data analysis\n",
        "from google.colab import files\n",
        "from google.colab import drive\n",
        "drive.mount('/content/drive')\n",
        "import matplotlib.pyplot as plt #data visualization\n",
        "% matplotlib inline"
      ],
      "execution_count": 1,
      "outputs": [
        {
          "output_type": "stream",
          "text": [
            "Drive already mounted at /content/drive; to attempt to forcibly remount, call drive.mount(\"/content/drive\", force_remount=True).\n"
          ],
          "name": "stdout"
        }
      ]
    },
    {
      "cell_type": "code",
      "metadata": {
        "id": "xZ7EqHpcUpMF",
        "colab": {
          "resources": {
            "http://localhost:8080/nbextensions/google.colab/files.js": {
              "data": "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",
              "ok": true,
              "headers": [
                [
                  "content-type",
                  "application/javascript"
                ]
              ],
              "status": 200,
              "status_text": ""
            }
          },
          "base_uri": "https://localhost:8080/",
          "height": 72
        },
        "outputId": "51af86f7-c5b0-42bc-aa46-633f5b18f702"
      },
      "source": [
        "#uploading the file\n",
        "uploaded = files.upload()"
      ],
      "execution_count": 3,
      "outputs": [
        {
          "output_type": "display_data",
          "data": {
            "text/html": [
              "\n",
              "     <input type=\"file\" id=\"files-80216113-c7d0-43d6-9996-42435a7697e4\" name=\"files[]\" multiple disabled\n",
              "        style=\"border:none\" />\n",
              "     <output id=\"result-80216113-c7d0-43d6-9996-42435a7697e4\">\n",
              "      Upload widget is only available when the cell has been executed in the\n",
              "      current browser session. Please rerun this cell to enable.\n",
              "      </output>\n",
              "      <script src=\"/nbextensions/google.colab/files.js\"></script> "
            ],
            "text/plain": [
              "<IPython.core.display.HTML object>"
            ]
          },
          "metadata": {
            "tags": []
          }
        },
        {
          "output_type": "stream",
          "text": [
            "Saving dataset-article.csv to dataset-article (1).csv\n"
          ],
          "name": "stdout"
        }
      ]
    },
    {
      "cell_type": "code",
      "metadata": {
        "id": "EI6ykQPsqqPM"
      },
      "source": [
        "#creating the dataframe\r\n",
        "dataframe= pd.read_csv('dataset-article (1).csv',engine= 'python',sep=',', quotechar='\"')"
      ],
      "execution_count": 4,
      "outputs": []
    },
    {
      "cell_type": "code",
      "metadata": {
        "colab": {
          "base_uri": "https://localhost:8080/",
          "height": 417
        },
        "id": "kd7u4ViVA7nr",
        "outputId": "5ff69c04-e733-4b53-def3-57b4c121a270"
      },
      "source": [
        "#Checking the first 5 rows of the dataset\r\n",
        "dataframe.head(5)"
      ],
      "execution_count": 5,
      "outputs": [
        {
          "output_type": "execute_result",
          "data": {
            "text/html": [
              "<div>\n",
              "<style scoped>\n",
              "    .dataframe tbody tr th:only-of-type {\n",
              "        vertical-align: middle;\n",
              "    }\n",
              "\n",
              "    .dataframe tbody tr th {\n",
              "        vertical-align: top;\n",
              "    }\n",
              "\n",
              "    .dataframe thead th {\n",
              "        text-align: right;\n",
              "    }\n",
              "</style>\n",
              "<table border=\"1\" class=\"dataframe\">\n",
              "  <thead>\n",
              "    <tr style=\"text-align: right;\">\n",
              "      <th></th>\n",
              "      <th>Job Title</th>\n",
              "      <th>Salary Estimate</th>\n",
              "      <th>Job Description</th>\n",
              "      <th>Rating</th>\n",
              "      <th>Company Name</th>\n",
              "      <th>Location</th>\n",
              "      <th>Headquarters</th>\n",
              "      <th>Size</th>\n",
              "      <th>Founded</th>\n",
              "      <th>Type of ownership</th>\n",
              "      <th>Industry</th>\n",
              "      <th>Sector</th>\n",
              "      <th>Revenue</th>\n",
              "      <th>Competitors</th>\n",
              "    </tr>\n",
              "  </thead>\n",
              "  <tbody>\n",
              "    <tr>\n",
              "      <th>0</th>\n",
              "      <td>Senior Data Scientist</td>\n",
              "      <td>$111K-$181K (Glassdoor est.)</td>\n",
              "      <td>ABOUT HOPPER\\n\\nAt Hopper weâ€™re on a mission...</td>\n",
              "      <td>35</td>\n",
              "      <td>Hopper\\n3.5</td>\n",
              "      <td>New York NY</td>\n",
              "      <td>Montreal Canada</td>\n",
              "      <td>501 to 1000 employees</td>\n",
              "      <td>2007</td>\n",
              "      <td>Company - Private</td>\n",
              "      <td>Travel Agencies</td>\n",
              "      <td>Travel &amp; Tourism</td>\n",
              "      <td>Unknown / Non-Applicable</td>\n",
              "      <td>-1</td>\n",
              "    </tr>\n",
              "    <tr>\n",
              "      <th>1</th>\n",
              "      <td>Data Scientist Product Analytics</td>\n",
              "      <td>$111K-$181K (Glassdoor est.)</td>\n",
              "      <td>At Noom we use scientifically proven methods t...</td>\n",
              "      <td>45</td>\n",
              "      <td>Noom US\\n4.5</td>\n",
              "      <td>New York NY</td>\n",
              "      <td>New York NY</td>\n",
              "      <td>1001 to 5000 employees</td>\n",
              "      <td>2008</td>\n",
              "      <td>Company - Private</td>\n",
              "      <td>Health Care &amp; Pharmaceuticals</td>\n",
              "      <td>Consumer Services</td>\n",
              "      <td>Unknown / Non-Applicable</td>\n",
              "      <td>-1</td>\n",
              "    </tr>\n",
              "    <tr>\n",
              "      <th>2</th>\n",
              "      <td>Data Science Manager</td>\n",
              "      <td>$111K-$181K (Glassdoor est.)</td>\n",
              "      <td>Decode_M\\n\\nhttps://www.decode-m.com/\\n\\nData ...</td>\n",
              "      <td>-10</td>\n",
              "      <td>Decode_M</td>\n",
              "      <td>New York NY</td>\n",
              "      <td>New York NY</td>\n",
              "      <td>1 to 50 employees</td>\n",
              "      <td>-1</td>\n",
              "      <td>Unknown</td>\n",
              "      <td>Research &amp; Development</td>\n",
              "      <td>-1</td>\n",
              "      <td>Unknown / Non-Applicable</td>\n",
              "      <td>-1</td>\n",
              "    </tr>\n",
              "    <tr>\n",
              "      <th>3</th>\n",
              "      <td>Data Analyst</td>\n",
              "      <td>$111K-$181K (Glassdoor est.)</td>\n",
              "      <td>Sapphire Digital seeks a dynamic and driven mi...</td>\n",
              "      <td>34</td>\n",
              "      <td>Sapphire Digital\\n3.4</td>\n",
              "      <td>Lyndhurst NJ</td>\n",
              "      <td>Lyndhurst NJ</td>\n",
              "      <td>201 to 500 employees</td>\n",
              "      <td>2019</td>\n",
              "      <td>Company - Private</td>\n",
              "      <td>Tech Companies</td>\n",
              "      <td>Information Technology</td>\n",
              "      <td>Unknown / Non-Applicable</td>\n",
              "      <td>Zocdoc Healthgrades</td>\n",
              "    </tr>\n",
              "    <tr>\n",
              "      <th>4</th>\n",
              "      <td>Director Data Science</td>\n",
              "      <td>$111K-$181K (Glassdoor est.)</td>\n",
              "      <td>Director Data Science - (200537)\\nDescription\\...</td>\n",
              "      <td>34</td>\n",
              "      <td>United Entertainment Group\\n3.4</td>\n",
              "      <td>New York NY</td>\n",
              "      <td>New York NY</td>\n",
              "      <td>51 to 200 employees</td>\n",
              "      <td>2007</td>\n",
              "      <td>Company - Private</td>\n",
              "      <td>Advertising &amp; Marketing</td>\n",
              "      <td>Business Services</td>\n",
              "      <td>Unknown / Non-Applicable</td>\n",
              "      <td>BBDO Grey Group Droga5</td>\n",
              "    </tr>\n",
              "  </tbody>\n",
              "</table>\n",
              "</div>"
            ],
            "text/plain": [
              "                          Job Title  ...             Competitors\n",
              "0             Senior Data Scientist  ...                      -1\n",
              "1  Data Scientist Product Analytics  ...                      -1\n",
              "2              Data Science Manager  ...                      -1\n",
              "3                      Data Analyst  ...     Zocdoc Healthgrades\n",
              "4             Director Data Science  ...  BBDO Grey Group Droga5\n",
              "\n",
              "[5 rows x 14 columns]"
            ]
          },
          "metadata": {
            "tags": []
          },
          "execution_count": 5
        }
      ]
    },
    {
      "cell_type": "code",
      "metadata": {
        "colab": {
          "base_uri": "https://localhost:8080/"
        },
        "id": "gMBjrj01AV81",
        "outputId": "dd3b7bfb-e0b6-4145-99f7-d038ab87c66b"
      },
      "source": [
        "#Check dataframe info\r\n",
        "dataframe.info()"
      ],
      "execution_count": 6,
      "outputs": [
        {
          "output_type": "stream",
          "text": [
            "<class 'pandas.core.frame.DataFrame'>\n",
            "RangeIndex: 6819 entries, 0 to 6818\n",
            "Data columns (total 14 columns):\n",
            " #   Column             Non-Null Count  Dtype \n",
            "---  ------             --------------  ----- \n",
            " 0   Job Title          6813 non-null   object\n",
            " 1   Salary Estimate    6819 non-null   object\n",
            " 2   Job Description    6818 non-null   object\n",
            " 3   Rating             6819 non-null   int64 \n",
            " 4   Company Name       6819 non-null   object\n",
            " 5   Location           6819 non-null   object\n",
            " 6   Headquarters       6819 non-null   object\n",
            " 7   Size               6819 non-null   object\n",
            " 8   Founded            6819 non-null   int64 \n",
            " 9   Type of ownership  6819 non-null   object\n",
            " 10  Industry           6816 non-null   object\n",
            " 11  Sector             6819 non-null   object\n",
            " 12  Revenue            6819 non-null   object\n",
            " 13  Competitors        6819 non-null   object\n",
            "dtypes: int64(2), object(12)\n",
            "memory usage: 746.0+ KB\n"
          ],
          "name": "stdout"
        }
      ]
    },
    {
      "cell_type": "code",
      "metadata": {
        "colab": {
          "base_uri": "https://localhost:8080/"
        },
        "id": "UdWH7YczAxEb",
        "outputId": "937c5c6c-4add-4d45-af4f-481ccd1043af"
      },
      "source": [
        "#Checking the number of columns and rows in the dataset\r\n",
        "dataframe.shape"
      ],
      "execution_count": 7,
      "outputs": [
        {
          "output_type": "execute_result",
          "data": {
            "text/plain": [
              "(6819, 14)"
            ]
          },
          "metadata": {
            "tags": []
          },
          "execution_count": 7
        }
      ]
    },
    {
      "cell_type": "code",
      "metadata": {
        "colab": {
          "base_uri": "https://localhost:8080/"
        },
        "id": "OH-gB2S32QZk",
        "outputId": "95e1383f-128f-42a4-b54c-bbac9127fea4"
      },
      "source": [
        "#checking the colummns\r\n",
        "dataframe.columns"
      ],
      "execution_count": 8,
      "outputs": [
        {
          "output_type": "execute_result",
          "data": {
            "text/plain": [
              "Index(['Job Title', 'Salary Estimate', 'Job Description', 'Rating',\n",
              "       'Company Name', 'Location', 'Headquarters', 'Size', 'Founded',\n",
              "       'Type of ownership', 'Industry', 'Sector', 'Revenue', 'Competitors'],\n",
              "      dtype='object')"
            ]
          },
          "metadata": {
            "tags": []
          },
          "execution_count": 8
        }
      ]
    },
    {
      "cell_type": "code",
      "metadata": {
        "colab": {
          "base_uri": "https://localhost:8080/"
        },
        "id": "VaQhv5_3cxTG",
        "outputId": "afbaeae1-44c0-4b16-f2f6-108f53426292"
      },
      "source": [
        "#checking the data types \r\n",
        "dataframe.dtypes"
      ],
      "execution_count": 9,
      "outputs": [
        {
          "output_type": "execute_result",
          "data": {
            "text/plain": [
              "Job Title            object\n",
              "Salary Estimate      object\n",
              "Job Description      object\n",
              "Rating                int64\n",
              "Company Name         object\n",
              "Location             object\n",
              "Headquarters         object\n",
              "Size                 object\n",
              "Founded               int64\n",
              "Type of ownership    object\n",
              "Industry             object\n",
              "Sector               object\n",
              "Revenue              object\n",
              "Competitors          object\n",
              "dtype: object"
            ]
          },
          "metadata": {
            "tags": []
          },
          "execution_count": 9
        }
      ]
    },
    {
      "cell_type": "markdown",
      "metadata": {
        "id": "a9evgnulY0U0"
      },
      "source": [
        "# **Data cleaning**\r\n",
        "\r\n",
        "After checking the overview of the dataframe, there are few changes we need to make:\r\n",
        "\r\n",
        "\r\n",
        "1.   Delete unnecessary columns\r\n",
        "2.   Deal with null values \r\n",
        "3.   Replace some strings\r\n",
        "\r\n"
      ]
    },
    {
      "cell_type": "code",
      "metadata": {
        "id": "b_U80PnY-47L"
      },
      "source": [
        "#Dropping unnecessary columns \r\n",
        "dataframe=dataframe.drop(['Rating','Founded','Revenue','Competitors','Headquarters','Sector','Size','Type of ownership','Job Description'],axis=1)"
      ],
      "execution_count": 11,
      "outputs": []
    },
    {
      "cell_type": "code",
      "metadata": {
        "colab": {
          "base_uri": "https://localhost:8080/"
        },
        "id": "aprwuCgNwJn7",
        "outputId": "80f168ea-ea2a-4321-d5d6-b1b0e515e1d6"
      },
      "source": [
        "#Checking if there are null values\r\n",
        "dataframe.isna().sum()"
      ],
      "execution_count": 15,
      "outputs": [
        {
          "output_type": "execute_result",
          "data": {
            "text/plain": [
              "Job Title          6\n",
              "Salary Estimate    0\n",
              "Company Name       0\n",
              "Location           0\n",
              "Industry           3\n",
              "dtype: int64"
            ]
          },
          "metadata": {
            "tags": []
          },
          "execution_count": 15
        }
      ]
    },
    {
      "cell_type": "code",
      "metadata": {
        "colab": {
          "base_uri": "https://localhost:8080/"
        },
        "id": "rnuWqBaAkGm_",
        "outputId": "b5a0360f-8dd3-405d-9071-54fd47090441"
      },
      "source": [
        "#Adjusting the format of data of the Salary Estimate colummn ( Before:$37K-$66K (Glassdoor est.) After: $37K-$66K)\r\n",
        "dataframe['Salary Estimate']=dataframe['Salary Estimate'].str[:11]\r\n",
        "dataframe['Salary Estimate']"
      ],
      "execution_count": 13,
      "outputs": [
        {
          "output_type": "execute_result",
          "data": {
            "text/plain": [
              "0       $111K-$181K\n",
              "1       $111K-$181K\n",
              "2       $111K-$181K\n",
              "3       $111K-$181K\n",
              "4       $111K-$181K\n",
              "           ...     \n",
              "6814    $55K-$112K \n",
              "6815    $55K-$112K \n",
              "6816    $55K-$112K \n",
              "6817    $55K-$112K \n",
              "6818    $55K-$112K \n",
              "Name: Salary Estimate, Length: 6819, dtype: object"
            ]
          },
          "metadata": {
            "tags": []
          },
          "execution_count": 13
        }
      ]
    },
    {
      "cell_type": "code",
      "metadata": {
        "colab": {
          "base_uri": "https://localhost:8080/",
          "height": 406
        },
        "id": "UdRPbESjWVWP",
        "outputId": "223b108f-01bb-4ed3-e925-65fde34ccf3a"
      },
      "source": [
        "#replace all the \"-1\"/'Unknown' values to null values\r\n",
        "dataframe=dataframe.replace(['Unknown','-1'],None)\r\n",
        "dataframe"
      ],
      "execution_count": 17,
      "outputs": [
        {
          "output_type": "execute_result",
          "data": {
            "text/html": [
              "<div>\n",
              "<style scoped>\n",
              "    .dataframe tbody tr th:only-of-type {\n",
              "        vertical-align: middle;\n",
              "    }\n",
              "\n",
              "    .dataframe tbody tr th {\n",
              "        vertical-align: top;\n",
              "    }\n",
              "\n",
              "    .dataframe thead th {\n",
              "        text-align: right;\n",
              "    }\n",
              "</style>\n",
              "<table border=\"1\" class=\"dataframe\">\n",
              "  <thead>\n",
              "    <tr style=\"text-align: right;\">\n",
              "      <th></th>\n",
              "      <th>Job Title</th>\n",
              "      <th>Salary Estimate</th>\n",
              "      <th>Company Name</th>\n",
              "      <th>Location</th>\n",
              "      <th>Industry</th>\n",
              "    </tr>\n",
              "  </thead>\n",
              "  <tbody>\n",
              "    <tr>\n",
              "      <th>0</th>\n",
              "      <td>Senior Data Scientist</td>\n",
              "      <td>$111K-$181K</td>\n",
              "      <td>Hopper\\n3.5</td>\n",
              "      <td>New York NY</td>\n",
              "      <td>Travel Agencies</td>\n",
              "    </tr>\n",
              "    <tr>\n",
              "      <th>1</th>\n",
              "      <td>Data Scientist Product Analytics</td>\n",
              "      <td>$111K-$181K</td>\n",
              "      <td>Noom US\\n4.5</td>\n",
              "      <td>New York NY</td>\n",
              "      <td>Health Care &amp; Pharmaceuticals</td>\n",
              "    </tr>\n",
              "    <tr>\n",
              "      <th>2</th>\n",
              "      <td>Data Science Manager</td>\n",
              "      <td>$111K-$181K</td>\n",
              "      <td>Decode_M</td>\n",
              "      <td>New York NY</td>\n",
              "      <td>Research &amp; Development</td>\n",
              "    </tr>\n",
              "    <tr>\n",
              "      <th>3</th>\n",
              "      <td>Data Analyst</td>\n",
              "      <td>$111K-$181K</td>\n",
              "      <td>Sapphire Digital\\n3.4</td>\n",
              "      <td>Lyndhurst NJ</td>\n",
              "      <td>Tech Companies</td>\n",
              "    </tr>\n",
              "    <tr>\n",
              "      <th>4</th>\n",
              "      <td>Director Data Science</td>\n",
              "      <td>$111K-$181K</td>\n",
              "      <td>United Entertainment Group\\n3.4</td>\n",
              "      <td>New York NY</td>\n",
              "      <td>Advertising &amp; Marketing</td>\n",
              "    </tr>\n",
              "    <tr>\n",
              "      <th>...</th>\n",
              "      <td>...</td>\n",
              "      <td>...</td>\n",
              "      <td>...</td>\n",
              "      <td>...</td>\n",
              "      <td>...</td>\n",
              "    </tr>\n",
              "    <tr>\n",
              "      <th>6814</th>\n",
              "      <td>AWS Data Engineer</td>\n",
              "      <td>$55K-$112K</td>\n",
              "      <td>Tachyon Technologies\\n4.4</td>\n",
              "      <td>Dublin OH</td>\n",
              "      <td>IT Services</td>\n",
              "    </tr>\n",
              "    <tr>\n",
              "      <th>6815</th>\n",
              "      <td>Data Analyst Ã¢ Junior</td>\n",
              "      <td>$55K-$112K</td>\n",
              "      <td>Staffigo Technical Services, LLC\\n5.0</td>\n",
              "      <td>Columbus OH</td>\n",
              "      <td>IT Services</td>\n",
              "    </tr>\n",
              "    <tr>\n",
              "      <th>6816</th>\n",
              "      <td>Security Analytics Data Engineer</td>\n",
              "      <td>$55K-$112K</td>\n",
              "      <td>PDS Tech, Inc.\\n3.8</td>\n",
              "      <td>Dublin OH</td>\n",
              "      <td>Staffing &amp; Outsourcing</td>\n",
              "    </tr>\n",
              "    <tr>\n",
              "      <th>6817</th>\n",
              "      <td>Security Analytics Data Engineer</td>\n",
              "      <td>$55K-$112K</td>\n",
              "      <td>Data Resource Technologies\\n4.0</td>\n",
              "      <td>Dublin OH</td>\n",
              "      <td>Accounting</td>\n",
              "    </tr>\n",
              "    <tr>\n",
              "      <th>6818</th>\n",
              "      <td>Patient Safety Physician or Safety Scientist -...</td>\n",
              "      <td>$55K-$112K</td>\n",
              "      <td>UCB\\n3.7</td>\n",
              "      <td>Slough OH</td>\n",
              "      <td>Health Care &amp; Pharmaceuticals</td>\n",
              "    </tr>\n",
              "  </tbody>\n",
              "</table>\n",
              "<p>6810 rows × 5 columns</p>\n",
              "</div>"
            ],
            "text/plain": [
              "                                              Job Title  ...                       Industry\n",
              "0                                 Senior Data Scientist  ...                Travel Agencies\n",
              "1                      Data Scientist Product Analytics  ...  Health Care & Pharmaceuticals\n",
              "2                                  Data Science Manager  ...         Research & Development\n",
              "3                                          Data Analyst  ...                 Tech Companies\n",
              "4                                 Director Data Science  ...        Advertising & Marketing\n",
              "...                                                 ...  ...                            ...\n",
              "6814                                  AWS Data Engineer  ...                    IT Services\n",
              "6815                             Data Analyst Ã¢ Junior  ...                    IT Services\n",
              "6816                   Security Analytics Data Engineer  ...         Staffing & Outsourcing\n",
              "6817                   Security Analytics Data Engineer  ...                     Accounting\n",
              "6818  Patient Safety Physician or Safety Scientist -...  ...  Health Care & Pharmaceuticals\n",
              "\n",
              "[6810 rows x 5 columns]"
            ]
          },
          "metadata": {
            "tags": []
          },
          "execution_count": 17
        }
      ]
    },
    {
      "cell_type": "code",
      "metadata": {
        "id": "2dGE0Z4eYzYM",
        "colab": {
          "base_uri": "https://localhost:8080/",
          "height": 406
        },
        "outputId": "5ceba869-9d87-42af-f84e-ab79e5b0fdf5"
      },
      "source": [
        "#Deleting null values. Before: 6819 rows // After: 6810 rows \r\n",
        "dataframe=dataframe.dropna(axis=0,how='any')\r\n",
        "dataframe"
      ],
      "execution_count": 18,
      "outputs": [
        {
          "output_type": "execute_result",
          "data": {
            "text/html": [
              "<div>\n",
              "<style scoped>\n",
              "    .dataframe tbody tr th:only-of-type {\n",
              "        vertical-align: middle;\n",
              "    }\n",
              "\n",
              "    .dataframe tbody tr th {\n",
              "        vertical-align: top;\n",
              "    }\n",
              "\n",
              "    .dataframe thead th {\n",
              "        text-align: right;\n",
              "    }\n",
              "</style>\n",
              "<table border=\"1\" class=\"dataframe\">\n",
              "  <thead>\n",
              "    <tr style=\"text-align: right;\">\n",
              "      <th></th>\n",
              "      <th>Job Title</th>\n",
              "      <th>Salary Estimate</th>\n",
              "      <th>Company Name</th>\n",
              "      <th>Location</th>\n",
              "      <th>Industry</th>\n",
              "    </tr>\n",
              "  </thead>\n",
              "  <tbody>\n",
              "    <tr>\n",
              "      <th>0</th>\n",
              "      <td>Senior Data Scientist</td>\n",
              "      <td>$111K-$181K</td>\n",
              "      <td>Hopper\\n3.5</td>\n",
              "      <td>New York NY</td>\n",
              "      <td>Travel Agencies</td>\n",
              "    </tr>\n",
              "    <tr>\n",
              "      <th>1</th>\n",
              "      <td>Data Scientist Product Analytics</td>\n",
              "      <td>$111K-$181K</td>\n",
              "      <td>Noom US\\n4.5</td>\n",
              "      <td>New York NY</td>\n",
              "      <td>Health Care &amp; Pharmaceuticals</td>\n",
              "    </tr>\n",
              "    <tr>\n",
              "      <th>2</th>\n",
              "      <td>Data Science Manager</td>\n",
              "      <td>$111K-$181K</td>\n",
              "      <td>Decode_M</td>\n",
              "      <td>New York NY</td>\n",
              "      <td>Research &amp; Development</td>\n",
              "    </tr>\n",
              "    <tr>\n",
              "      <th>3</th>\n",
              "      <td>Data Analyst</td>\n",
              "      <td>$111K-$181K</td>\n",
              "      <td>Sapphire Digital\\n3.4</td>\n",
              "      <td>Lyndhurst NJ</td>\n",
              "      <td>Tech Companies</td>\n",
              "    </tr>\n",
              "    <tr>\n",
              "      <th>4</th>\n",
              "      <td>Director Data Science</td>\n",
              "      <td>$111K-$181K</td>\n",
              "      <td>United Entertainment Group\\n3.4</td>\n",
              "      <td>New York NY</td>\n",
              "      <td>Advertising &amp; Marketing</td>\n",
              "    </tr>\n",
              "    <tr>\n",
              "      <th>...</th>\n",
              "      <td>...</td>\n",
              "      <td>...</td>\n",
              "      <td>...</td>\n",
              "      <td>...</td>\n",
              "      <td>...</td>\n",
              "    </tr>\n",
              "    <tr>\n",
              "      <th>6814</th>\n",
              "      <td>AWS Data Engineer</td>\n",
              "      <td>$55K-$112K</td>\n",
              "      <td>Tachyon Technologies\\n4.4</td>\n",
              "      <td>Dublin OH</td>\n",
              "      <td>IT Services</td>\n",
              "    </tr>\n",
              "    <tr>\n",
              "      <th>6815</th>\n",
              "      <td>Data Analyst Ã¢ Junior</td>\n",
              "      <td>$55K-$112K</td>\n",
              "      <td>Staffigo Technical Services, LLC\\n5.0</td>\n",
              "      <td>Columbus OH</td>\n",
              "      <td>IT Services</td>\n",
              "    </tr>\n",
              "    <tr>\n",
              "      <th>6816</th>\n",
              "      <td>Security Analytics Data Engineer</td>\n",
              "      <td>$55K-$112K</td>\n",
              "      <td>PDS Tech, Inc.\\n3.8</td>\n",
              "      <td>Dublin OH</td>\n",
              "      <td>Staffing &amp; Outsourcing</td>\n",
              "    </tr>\n",
              "    <tr>\n",
              "      <th>6817</th>\n",
              "      <td>Security Analytics Data Engineer</td>\n",
              "      <td>$55K-$112K</td>\n",
              "      <td>Data Resource Technologies\\n4.0</td>\n",
              "      <td>Dublin OH</td>\n",
              "      <td>Accounting</td>\n",
              "    </tr>\n",
              "    <tr>\n",
              "      <th>6818</th>\n",
              "      <td>Patient Safety Physician or Safety Scientist -...</td>\n",
              "      <td>$55K-$112K</td>\n",
              "      <td>UCB\\n3.7</td>\n",
              "      <td>Slough OH</td>\n",
              "      <td>Health Care &amp; Pharmaceuticals</td>\n",
              "    </tr>\n",
              "  </tbody>\n",
              "</table>\n",
              "<p>6810 rows × 5 columns</p>\n",
              "</div>"
            ],
            "text/plain": [
              "                                              Job Title  ...                       Industry\n",
              "0                                 Senior Data Scientist  ...                Travel Agencies\n",
              "1                      Data Scientist Product Analytics  ...  Health Care & Pharmaceuticals\n",
              "2                                  Data Science Manager  ...         Research & Development\n",
              "3                                          Data Analyst  ...                 Tech Companies\n",
              "4                                 Director Data Science  ...        Advertising & Marketing\n",
              "...                                                 ...  ...                            ...\n",
              "6814                                  AWS Data Engineer  ...                    IT Services\n",
              "6815                             Data Analyst Ã¢ Junior  ...                    IT Services\n",
              "6816                   Security Analytics Data Engineer  ...         Staffing & Outsourcing\n",
              "6817                   Security Analytics Data Engineer  ...                     Accounting\n",
              "6818  Patient Safety Physician or Safety Scientist -...  ...  Health Care & Pharmaceuticals\n",
              "\n",
              "[6810 rows x 5 columns]"
            ]
          },
          "metadata": {
            "tags": []
          },
          "execution_count": 18
        }
      ]
    },
    {
      "cell_type": "code",
      "metadata": {
        "id": "8HPqKxGiV-qT"
      },
      "source": [
        "def agg_salary (salary1,salary2):\r\n",
        "  '''\r\n",
        "    \r\n",
        "    Aggregate the salary values with similar range.\r\n",
        "    \r\n",
        "    Parameters:\r\n",
        "    salary1: Salary to be replaced\r\n",
        "    salary2: Salary that is gonna aggregate the other salary category\r\n",
        "    \r\n",
        "    \r\n",
        "    Returns:\r\n",
        "   top 10 salaries of the dataframe with the updated data\r\n",
        "    \r\n",
        "    '''\r\n",
        "  dataframe['Salary Estimate']=dataframe['Salary Estimate'].replace('salary1','salary2')\r\n",
        "  return dataframe['Salary Estimate'].value_counts().head(10)"
      ],
      "execution_count": 19,
      "outputs": []
    },
    {
      "cell_type": "code",
      "metadata": {
        "colab": {
          "base_uri": "https://localhost:8080/"
        },
        "id": "ZQaLDJDwWX4s",
        "outputId": "7efa20a2-ef55-4448-eafc-30f60282aed6"
      },
      "source": [
        "agg_salary('$85K-$159K','$84K-$156K')\r\n",
        "agg_salary('$94K-$151K','$93K-$151K')\r\n",
        "agg_salary('$97K-$159K','$98K-$152K')\r\n",
        "agg_salary('$46K-$82K','$46K-$91K')"
      ],
      "execution_count": 20,
      "outputs": [
        {
          "output_type": "execute_result",
          "data": {
            "text/plain": [
              "$93K-$151K     124\n",
              "$71K-$122K     120\n",
              "$111K-$175K    120\n",
              "$100K-$172K     74\n",
              "$97K-$159K      64\n",
              "$12K-$111K      62\n",
              "$60K-$124K      62\n",
              "$98K-$152K      62\n",
              "$135K-$214K     62\n",
              "$150K-$169K     62\n",
              "Name: Salary Estimate, dtype: int64"
            ]
          },
          "metadata": {
            "tags": []
          },
          "execution_count": 20
        }
      ]
    },
    {
      "cell_type": "code",
      "metadata": {
        "colab": {
          "base_uri": "https://localhost:8080/"
        },
        "id": "Ago1eaP4jfeE",
        "outputId": "90019700-57c8-4c4f-f018-1963d74823f8"
      },
      "source": [
        "#Removing the last characters of the column \"Company Name\"\r\n",
        "dataframe['Company Name']=dataframe['Company Name'].str[:-4]\r\n",
        "dataframe['Company Name'].value_counts().head(10)"
      ],
      "execution_count": 30,
      "outputs": [
        {
          "output_type": "execute_result",
          "data": {
            "text/plain": [
              "Apple                               60\n",
              "Apple\\n                             57\n",
              "IBM                                 57\n",
              "Amazon                              47\n",
              "IBM\\n                               42\n",
              "Amazon\\n                            30\n",
              "Staffigo Technical Services, LLC    28\n",
              "Diverse Lynx                        25\n",
              "Facebook                            25\n",
              "Solekai Systems Corp                24\n",
              "Name: Company Name, dtype: int64"
            ]
          },
          "metadata": {
            "tags": []
          },
          "execution_count": 30
        }
      ]
    },
    {
      "cell_type": "code",
      "metadata": {
        "id": "sGa8onpHl_Ng"
      },
      "source": [
        "#Cleaning '\\n' from the Company Name column \r\n",
        "dataframe['Company Name']=dataframe['Company Name'].replace(r'\\n','', regex=True)"
      ],
      "execution_count": 37,
      "outputs": []
    },
    {
      "cell_type": "markdown",
      "metadata": {
        "id": "flVsVaphRSMq"
      },
      "source": [
        "# **Data visualization**\r\n",
        "In this section, we analyse how the data of the most important columns looks like. "
      ]
    },
    {
      "cell_type": "code",
      "metadata": {
        "id": "Inmxr8frK3KT"
      },
      "source": [
        "# Data Visualization\r\n",
        "def top10_chart(dataframe, column, title,kind):\r\n",
        "    '''\r\n",
        "    \r\n",
        "    Displays a bar chart with the top 10 values of the column.\r\n",
        "    \r\n",
        "    Parameters:\r\n",
        "    dataframe: current dataframe\r\n",
        "    column: column of the dataframe\r\n",
        "    title: title of the chart\r\n",
        "    \r\n",
        "    Returns:\r\n",
        "    None\r\n",
        "    \r\n",
        "    '''\r\n",
        "    top10_chart = dataframe[column].value_counts()\r\n",
        "    plt.figure(figsize=(15,10))\r\n",
        "    (top10_chart[:10]/dataframe.shape[0]).plot(kind=kind);\r\n",
        "    plt.title(title);"
      ],
      "execution_count": 38,
      "outputs": []
    },
    {
      "cell_type": "markdown",
      "metadata": {
        "id": "CCC2-TBO0y3W"
      },
      "source": [
        "1. **Which companies have high number of data scientist job positions?**\r\n",
        "\r\n",
        "As you can see on the graph bellow, the top 5 companies are: Apple,IBM,  Amazon, Staffigo Technical Services and Facebook"
      ]
    },
    {
      "cell_type": "code",
      "metadata": {
        "colab": {
          "base_uri": "https://localhost:8080/",
          "height": 754
        },
        "id": "l7VuQv4ePzyc",
        "outputId": "214c03c6-a5e1-429d-fecf-4e708a0ad32c"
      },
      "source": [
        "top10_chart(dataframe,'Company Name','Companies with the most number of job positions','bar')"
      ],
      "execution_count": 41,
      "outputs": [
        {
          "output_type": "display_data",
          "data": {
            "image/png": "[encoded data removed]",
            "text/plain": [
              "<Figure size 1080x720 with 1 Axes>"
            ]
          },
          "metadata": {
            "tags": [],
            "needs_background": "light"
          }
        }
      ]
    },
    {
      "cell_type": "markdown",
      "metadata": {
        "id": "sGAxGfU6-0o0"
      },
      "source": [
        "**2.   What's the most frequent salary estimate?**\r\n",
        "\r\n",
        "The most frequenty salary estimate for data scientists is 93k-151k. "
      ]
    },
    {
      "cell_type": "code",
      "metadata": {
        "colab": {
          "base_uri": "https://localhost:8080/",
          "height": 610
        },
        "id": "Jl9QvlaD5t_-",
        "outputId": "2c0d9ef7-59fd-4a12-afd6-f57c69524d02"
      },
      "source": [
        "top10_chart(dataframe,'Salary Estimate','Most frequent salary estimate','area')"
      ],
      "execution_count": 42,
      "outputs": [
        {
          "output_type": "display_data",
          "data": {
            "image/png": "[encoded data removed]",
            "text/plain": [
              "<Figure size 1080x720 with 1 Axes>"
            ]
          },
          "metadata": {
            "tags": [],
            "needs_background": "light"
          }
        }
      ]
    },
    {
      "cell_type": "markdown",
      "metadata": {
        "id": "kwg6BMZe4itH"
      },
      "source": [
        "3. **Which cities offer more job opportunities?**\r\n",
        "The city that most offer jobs for data scientists is Austin, Texas"
      ]
    },
    {
      "cell_type": "code",
      "metadata": {
        "colab": {
          "base_uri": "https://localhost:8080/",
          "height": 606
        },
        "id": "jpCKGnOLObtM",
        "outputId": "dcf5fa49-019f-46a0-c584-cf17b4e86693"
      },
      "source": [
        "top10_chart(dataframe,'Location','Best places to find a data scientist job','barh')"
      ],
      "execution_count": 43,
      "outputs": [
        {
          "output_type": "display_data",
          "data": {
            "image/png": "[encoded data removed]",
            "text/plain": [
              "<Figure size 1080x720 with 1 Axes>"
            ]
          },
          "metadata": {
            "tags": [],
            "needs_background": "light"
          }
        }
      ]
    }
  ]
}